{
 "cells": [
  {
   "cell_type": "code",
   "execution_count": 25,
   "metadata": {},
   "outputs": [],
   "source": [
    "from itertools import cycle\n",
    "import numpy as np\n",
    "import matplotlib.pyplot as plt\n",
    "from sklearn.linear_model import lasso_path, enet_path\n",
    "from sklearn import datasets\n",
    "from copy import deepcopy"
   ]
  },
  {
   "cell_type": "code",
   "execution_count": 2,
   "metadata": {},
   "outputs": [],
   "source": [
    "# X, y = datasets.load_diabetes(return_X_y=True)\n",
    "# X /= X.std(axis=0)\n",
    "# X.shape\n",
    "\n",
    "X = np.random.randn(100,10)\n",
    "y = np.dot(X,[1,2,3,4,5,6,7,8,9,10])"
   ]
  },
  {
   "cell_type": "markdown",
   "metadata": {},
   "source": [
    "# LASSO by Coordinate Descent Method\n",
    "\n",
    "The code is the simplified version of ``_cd_fast.enet_coordinate_descent()`` with ``beta=0`` and ``l1_ratio=1`` from scikit-learn (source code:[lasso coodinate descent source](https://github.com/scikit-learn/scikit-learn/blob/483cd3eaa3c636a57ebb0dc4765531183b274df0/sklearn/linear_model/_cd_fast.pyx)). The original code is implemented in ``Cython``, and code here is pure python for convenience, easier to understand but __much slower__.\n",
    "\n",
    "## Coordinate Descent Method Framework\n",
    "\n",
    "1. randomly set $\\beta^{(0)}$ for iteration 0\n",
    "2. For $k$th iteration:\\\n",
    "   ----For $j=1$ to $p$:\\\n",
    "   --------$\\beta^{(k)}_j = argmin_{\\beta_j} \\mathcal{L}_{l1}(\\beta)=argmin_{\\beta_j} \\mathcal{L}_{l1}(\\beta_1^{(k-1)}, \\beta_2^{(k-1)},\\ldots, \\beta_{j-1}^{(k-1)}, \\beta_j, \\beta_{j+1}^{(k)}, \\ldots, \\beta_p^{(k-1)})$\\\n",
    "   ----Endfor\\\n",
    "   ----Check convergence: if yes, end algorithm; else continue update\\\n",
    "   Endfor\n",
    "   \n",
    "\n",
    "Here the objective function is \n",
    "$$\\mathcal{L}_{l1}=\\frac{1}{2N}(Y-X\\beta)^T (Y-X\\beta) + \\lambda \\left\\lVert \\beta \\right\\rVert_1$$\n",
    "where the size of $X$, $Y$, $\\beta$ is $N\\times p$, $N\\times 1$, $p\\times 1$, which means $N$ samples and $p$ features."
   ]
  },
  {
   "cell_type": "markdown",
   "metadata": {},
   "source": [
    "## Coordinate Descent Method Update Details\n",
    "\n",
    "To update the $\\beta_j$, we need to find the $\\beta_j^*\\;\\text{ s.t.}\\; \\frac{\\partial \\mathcal{L}_{l1}(\\beta)}{\\partial \\beta_j}=0$.\n",
    "\n",
    "Given $\\mathcal{L}_{l1}(\\beta) = \\frac{1}{2N} \\sum_{n=1}^N(y^{(n)} - \\sum_{i=1}^p{x^{(n)}_i \\beta_i})^2 + \\lambda \\left\\lVert \\beta \\right\\rVert_1$, we have\n",
    "\\begin{align}\n",
    "\\frac{\\partial \\mathcal{L}_{l1}(\\beta)}{\\partial \\beta_j} \n",
    "&= -\\frac{1}{N} \\sum_{n=1}^N(y^{(n)} - \\sum_{i=1}^p{x^{(n)}_i \\beta_i}) \\cdot x_j^{(n)} + \\lambda \\cdot \\text{sgn}(\\beta_j) \\\\\n",
    "&= -\\frac{1}{N} \\sum_{n=1}^N (y^{(n)} - x^{(n)}_j \\beta_j - \\sum_{i\\neq j}{x^{(n)}_i \\beta_i}) \\cdot x_j^{(n)} + \\lambda \\cdot \\text{sgn}(\\beta_j) \\\\\n",
    "&= -\\frac{1}{N} [\\sum_{n=1}^N {x_j^{(n)} \\cdot (y^{(n)} - \\sum_{i\\neq j}{x^{(n)}_i \\beta_i})}] + \\frac{\\beta_j}{N} [\\sum_{n=1}^N{(x^{(n)}_j)^2}] + \\lambda \\cdot \\text{sgn}(\\beta_j) \\\\\n",
    "&= 0\n",
    "\\end{align}\n",
    "\n",
    "Let residual $R = [r^{(1)}, r^{(2)}, \\ldots, r^{(N)}]^T$, and $r^{(n)} = y^{(n)} - \\sum_{i\\neq j}{x^{(n)}_i \\beta_i}$.\n",
    "\n",
    "Let norm of the columns of $X$ be $norm\\_cols\\_X = [\\sum_n(x_1^{(n)})^2,\\; \\sum_n(x_2^{(n)})^2,\\;\\ldots,\\; \\sum_n(x_p^{(n)})^2]^T$.\n",
    "\n",
    "Then we have \n",
    "$$\\frac{\\partial \\mathcal{L}_{l1}(\\beta)}{\\partial \\beta_j} = -\\frac{1}{N} \\sum_{n=1}^N{r^{(n)} x_j^{(n)}} + \\frac{\\beta_j}{N} \\cdot norm\\_cols\\_X_j + \\lambda \\cdot \\text{sgn}(\\beta_j) = 0.$$\n",
    "\n",
    "Now let $tmp = \\sum_{n=1}^N{r^{(n)} x_j^{(n)}} = R^T X_{:,j}$.\n",
    "\n",
    "It's easy to get \n",
    "$$\\beta_j^* = \\frac{tmp - N\\cdot \\lambda \\cdot \\text{sgn}(\\beta_j)}{norm\\_cols\\_X_j}$$\n",
    "\n",
    "Here are different cases:\n",
    "\\begin{enumerate}\n",
    "\\item If $\\beta_j>0$, then\n",
    "$$\\beta_j^* = \\frac{tmp - \\lambda N}{norm\\_cols\\_X_j} > 0,$$  \n",
    "and we can have $tmp - \\lambda N >0$, that is, when $tmp > \\lambda N >0$.\n",
    "\\item If $\\beta_j<0$, then\n",
    "$$\\beta_j^* = \\frac{tmp + \\lambda N}{norm\\_cols\\_X_j} < 0$$\n",
    "and we can have $tmp + \\lambda N <0$, that is, when $tmp < -\\lambda N <0$.\n",
    "\\item Else $\\beta_j^*=0$, that is, when $-\\lambda N \\le tmp \\le \\lambda N$.\n",
    "\\end{enumerate}\n",
    "\n",
    "From cases 1 and 2, we can find $\\text{sgn}(tmp)=\\text{sgn}(\\beta_j)$ always, so the solution can be rewritten as \n",
    "$$\\text{if}\\;\\; |tmp| > \\lambda N,\\;\\;\\text{then}\\;\\;  \\beta_j^* = \\frac{\\text{sgn}(tmp) \\cdot (|tmp| - \\lambda N)}{norm\\_cols\\_X_j}; \\;\\; \\text{Else if}\\;\\; |tmp| <= \\lambda N, \\;\\; \\beta_j^* = 0.$$ \n",
    "\n",
    "The final solution can also be rewritten as\n",
    "$$\\beta_j^* = \\frac{\\text{sgn}(tmp) \\cdot \\max[|tmp| - \\lambda N, \\;0]}{norm\\_cols\\_X_j}$$\n",
    "\n",
    "There is a plot for $\\;tmp$ vs $\\beta_j$:\n",
    "<div>\n",
    "<img src=\"./LASSOupdate.jpg\" width=\"20%\"/>\n",
    "</div>"
   ]
  },
  {
   "cell_type": "code",
   "execution_count": 3,
   "metadata": {
    "scrolled": true
   },
   "outputs": [
    {
     "name": "stdout",
     "output_type": "stream",
     "text": [
      "Computing regularization path using the lasso...\n"
     ]
    },
    {
     "data": {
      "text/plain": [
       "(-1.184363644720181,\n",
       " 3.4596699798578108,\n",
       " -0.49997222048796663,\n",
       " 10.4994166302473)"
      ]
     },
     "execution_count": 3,
     "metadata": {},
     "output_type": "execute_result"
    },
    {
     "data": {
      "image/png": "[encoded data removed]",
      "text/plain": [
       "<Figure size 432x288 with 1 Axes>"
      ]
     },
     "metadata": {
      "needs_background": "light"
     },
     "output_type": "display_data"
    }
   ],
   "source": [
    "eps = 6e-5  # the smaller it is the longer is the path\n",
    "\n",
    "print(\"Computing regularization path using the lasso...\")\n",
    "lambdas_lasso, coefs_lasso, _ = lasso_path(X, y, eps, fit_intercept=False)\n",
    "\n",
    "# Display results\n",
    "\n",
    "plt.figure(1)\n",
    "colors = cycle(['b', 'r', 'g', 'c', 'k', 'y','m'])\n",
    "neg_log_lambdas_lasso = -np.log10(lambdas_lasso)\n",
    "for coef_l, c in zip(coefs_lasso, colors):\n",
    "    l1 = plt.plot(neg_log_lambdas_lasso, coef_l, c=c)\n",
    "\n",
    "plt.xlabel('-Log($\\lambda$)')\n",
    "plt.ylabel('coefficients')\n",
    "plt.title('Lasso Paths')\n",
    "plt.axis('tight')\n"
   ]
  },
  {
   "cell_type": "code",
   "execution_count": null,
   "metadata": {},
   "outputs": [],
   "source": []
  },
  {
   "cell_type": "markdown",
   "metadata": {},
   "source": [
    "## Simplified Code\n",
    "\n",
    "To avoid compute the residual from scratch in each iteration ``n_iter`` and ``f_iter``, precompute the entire residual from the begin using initial weight ``w``, and update only term related with ``w_ii`` in each loop for ``ii=f_iter``."
   ]
  },
  {
   "cell_type": "code",
   "execution_count": 4,
   "metadata": {},
   "outputs": [],
   "source": [
    "def fsign(f):\n",
    "    if f == 0.0:\n",
    "        return 0\n",
    "    elif f > 0:\n",
    "        return 1\n",
    "    else:\n",
    "        return -1\n",
    "\n",
    "def LASSO_coordinate_descent(X,y,lmbd,max_iter=1000,tol=1e-4):\n",
    "    n_samples, n_features = X.shape\n",
    "    \n",
    "    # compute norms of the columns of X\n",
    "    norm_cols_X = np.square(X).sum(axis=0)\n",
    "    \n",
    "    # initial value of the residuals and weights\n",
    "    R = np.empty(n_samples, dtype=float)\n",
    "    XtA = np.empty(n_features, dtype=float)\n",
    "    w = np.empty(n_features, dtype=float)\n",
    "    \n",
    "    gap = tol + 1\n",
    "    d_w_tol = tol\n",
    "    \n",
    "    \n",
    "    R = y - np.dot(X, w)\n",
    "    tol *= np.dot(y,y)\n",
    "    for n_iter in range(max_iter):\n",
    "        w_max = 0.0\n",
    "        d_w_max = 0.0\n",
    "        for f_iter in range(n_features):\n",
    "            ii = f_iter\n",
    "            if norm_cols_X[ii] <= 1e-3:\n",
    "                continue\n",
    "                \n",
    "            w_ii = w[ii] #store previous value\n",
    "            if w_ii != 0.0:\n",
    "                R += w_ii * X[:,ii]\n",
    "            tmp = (X[:,ii]*R).sum()\n",
    "            \n",
    "            # in original cython code, there is no need for lmbd to multiply with n_samples\n",
    "            # but it seems only code below can output the same results\n",
    "            w[ii] = fsign(tmp) * max(abs(tmp)-n_samples*lmbd, 0.0) / norm_cols_X[ii] \n",
    "            \n",
    "            if w[ii] != 0.0:\n",
    "                R -= w[ii] * X[:,ii] # Update residual\n",
    "                \n",
    "            # update the maximum absolute coefficient update\n",
    "            d_w_ii = abs(w[ii] - w_ii)\n",
    "            d_w_max = max(d_w_max, d_w_ii)\n",
    "            \n",
    "            w_max = max(w_max, abs(w[ii]))\n",
    "        \n",
    "        if w_max == 0.0 or d_w_max / w_max < d_w_tol or n_iter == max_iter - 1:\n",
    "            # the biggest coordinate update of this iteration was smaller\n",
    "            # than the tolerance: check the duality gap as ultimate\n",
    "            # stopping criterion    \n",
    "            XtA = np.dot(X.T, R)\n",
    "            dual_norm_XtA = max(abs(XtA)) # TODO ???? what's this?\n",
    "            \n",
    "            R_norm2 = np.dot(R, R)\n",
    "            \n",
    "            #???\n",
    "            if dual_norm_XtA > lmbd:\n",
    "                const = lmbd / dual_norm_XtA\n",
    "                A_norm2 = R_norm2 * (const ** 2)\n",
    "                gap = 0.5 * (R_norm2 + A_norm2)\n",
    "            else:\n",
    "                const = 1.0\n",
    "                gap = R_norm2\n",
    "            \n",
    "            l1_norm = np.abs(w).sum()\n",
    "            \n",
    "            gap += (lmbd * l1_norm - const * np.dot(R.T,y))\n",
    "            if gap < tol:\n",
    "                # return if we reached desired tolerance\n",
    "                break\n",
    "                \n",
    "    return w, gap, tol, n_iter + 1"
   ]
  },
  {
   "cell_type": "markdown",
   "metadata": {},
   "source": [
    "scikit-learn provides an automated generator for regularization parameter $alpha$ based on the dataset ($X$, $Y$):\n",
    "$$\\lambda_{max} = \\frac{\\text{max}(\\text{abs}(X^T Y))}{N},$$\n",
    "and\n",
    "$$\\lambda_{min} = eps\\cdot \\lambda_{max}$$\n",
    "where $0 < eps < 1$.\n",
    "\n",
    "The corresponding function is ``lmbd_grid()`` (named as ``_alpha_grid`` in scikit-learn):"
   ]
  },
  {
   "cell_type": "code",
   "execution_count": 5,
   "metadata": {},
   "outputs": [],
   "source": [
    "def lmbd_grid(X, y, eps=1e-3, n_lmbds=100):\n",
    "    Xty = np.dot(X.T,y)\n",
    "    n_samples, n_features = X.shape\n",
    "    lmbd_max = (np.sqrt(Xty ** 2).max() / n_samples)\n",
    "    \n",
    "    return np.logspace(np.log10(lmbd_max * eps), np.log10(lmbd_max),\n",
    "                       num=n_lmbds)[::-1]"
   ]
  },
  {
   "cell_type": "code",
   "execution_count": 6,
   "metadata": {},
   "outputs": [
    {
     "data": {
      "text/plain": [
       "array([1., 1., 1., 1., 1., 1., 1., 1., 1., 1., 1., 1., 1., 1., 1., 1., 1.,\n",
       "       1., 1., 1., 1., 1., 1., 1., 1., 1., 1., 1., 1., 1., 1., 1., 1., 1.,\n",
       "       1., 1., 1., 1., 1., 1., 1., 1., 1., 1., 1., 1., 1., 1., 1., 1., 1.,\n",
       "       1., 1., 1., 1., 1., 1., 1., 1., 1., 1., 1., 1., 1., 1., 1., 1., 1.,\n",
       "       1., 1., 1., 1., 1., 1., 1., 1., 1., 1., 1., 1., 1., 1., 1., 1., 1.,\n",
       "       1., 1., 1., 1., 1., 1., 1., 1., 1., 1., 1., 1., 1., 1., 1.])"
      ]
     },
     "execution_count": 6,
     "metadata": {},
     "output_type": "execute_result"
    }
   ],
   "source": [
    "my_lambdas = lmbd_grid(X, y, eps=eps)\n",
    "my_lambdas/lambdas_lasso # lmbd_grid is now completely the same as scikit-learn _alpha_grid"
   ]
  },
  {
   "cell_type": "markdown",
   "metadata": {},
   "source": [
    "## My LASSO Path"
   ]
  },
  {
   "cell_type": "code",
   "execution_count": 7,
   "metadata": {},
   "outputs": [],
   "source": [
    "def my_lasso_path(X, y, eps, lambdas_lasso):\n",
    "    n_samples, n_features = X.shape\n",
    "#     lambdas_lasso = alpha_grid(X, y, eps)\n",
    "    coefs_lasso = np.empty((n_features, len(lambdas_lasso)), dtype=float)\n",
    "    for i, lmbd in enumerate(lambdas_lasso):\n",
    "        w, _, _, _ = LASSO_coordinate_descent(X,y,lmbd)\n",
    "        coefs_lasso[:,i] = w\n",
    "    \n",
    "    return lambdas_lasso, coefs_lasso"
   ]
  },
  {
   "cell_type": "code",
   "execution_count": 8,
   "metadata": {},
   "outputs": [
    {
     "data": {
      "text/plain": [
       "(-1.184363644720181,\n",
       " 3.4596699798578108,\n",
       " -0.4999721963967405,\n",
       " 10.49941612433155)"
      ]
     },
     "execution_count": 8,
     "metadata": {},
     "output_type": "execute_result"
    },
    {
     "data": {
      "image/png": "[encoded data removed]",
      "text/plain": [
       "<Figure size 432x288 with 1 Axes>"
      ]
     },
     "metadata": {
      "needs_background": "light"
     },
     "output_type": "display_data"
    }
   ],
   "source": [
    "my_lambdas_lasso, coefs_lasso = my_lasso_path(X, y, eps, my_lambdas) # much slower than scikit-learn Cython version\n",
    "\n",
    "\n",
    "# Display results\n",
    "plt.figure(1)\n",
    "colors = cycle(['b', 'r', 'g', 'c', 'k', 'y','m'])\n",
    "neg_log_lambdas_lasso = -np.log10(my_lambdas)\n",
    "for coef_l, c in zip(coefs_lasso, colors):\n",
    "    l1 = plt.plot(neg_log_lambdas_lasso, coef_l, c=c)\n",
    "\n",
    "plt.xlabel('-Log($\\lambda$)')\n",
    "plt.ylabel('coefficients')\n",
    "plt.title('My Lasso Paths')\n",
    "plt.axis('tight')"
   ]
  },
  {
   "cell_type": "markdown",
   "metadata": {},
   "source": [
    "# LASSO by Proximal Gradient Descent\n",
    "\n",
    "## Proximal Gradient Descent Framework\n",
    "\n",
    "1. randomly set $\\beta^{(0)}$ for iteration 0\n",
    "2. For $k$th iteration:\\\n",
    "   ----Compute gradient $\\nabla f(\\beta^{(k-1)})$\\\n",
    "   ----Set $z = \\beta^{(k-1)} - \\frac{1}{L} \\nabla f(\\beta^{(k-1)})$\\\n",
    "   ----Update $\\beta^{(k)} = \\text{sgn}(z)\\cdot \\text{max}[|z|-\\frac{\\lambda}{L}, \\; 0]$\\\n",
    "   ----Check convergence: if yes, end algorithm; else continue update\\\n",
    "   Endfor\n",
    "   \n",
    "\n",
    "Here $f(\\beta) = \\frac{1}{2N}(Y-X\\beta)^T (Y-X\\beta)$, and $\\nabla f(\\beta) = -\\frac{1}{N}X^T(Y-X\\beta)$,\n",
    "where the size of $X$, $Y$, $\\beta$ is $N\\times p$, $N\\times 1$, $p\\times 1$, which means $N$ samples and $p$ features. Parameter $L \\ge 1$ can be chosen, and $\\frac{1}{L}$ can be considered as step size."
   ]
  },
  {
   "cell_type": "markdown",
   "metadata": {},
   "source": [
    "## Proximal Gradient Descent Details\n",
    "\n",
    "Consider optimization problem:\n",
    "$$\\text{min}_x {f(x) + \\lambda \\cdot g(x)},$$\n",
    "where $x\\in \\mathbb{R}^{p\\times 1}$, $f(x) \\in \\mathbb{R}$. And $f(x)$ is differentiable convex function, and $g(x)$ is convex but may not differentiable.\n",
    "\n",
    "For $f(x)$, according to Lipschitz continuity, for $\\forall x, y$, there always exists a constant $L$ s.t. \n",
    "$$|f'(y) - f'(x)| \\le L|y-x|.$$\n",
    "Then this problem can be solved using __Proximal Gradient Descent__.\n",
    "\n",
    "Denote $x^{(k)}$ as the $k$th updated result for $x$, then for $x\\to x^{(k)}$, the proximation of $f(x)$ can be a function of $x$ and $x^{(k)}$:\n",
    "\\begin{align}\n",
    "\\hat{f}(x,x^{(k)}) \n",
    "&= f(x^{(k)}) + \\nabla f^T(x^{(k)}) (x-x^{(k)}) + \\frac{L}{2} \\left\\lVert x - x^{(k)} \\right\\rVert^2 \\\\\n",
    "&= \\frac{L}{2}[x - (x^{(k)} - \\frac{1}{L} \\nabla f(x^{(k)}))]^2 + \\text{CONST} \n",
    "\\end{align}\n",
    "where $\\text{CONST}$ is not related with $x$, so can be ignored.\n",
    "\n",
    "The original solution for $x$ at iteration $k+1$ is\n",
    "$$x^{(k+1)} = \\text{argmin}_x\\{ f(x) + \\lambda \\cdot g(x)\\},$$\n",
    "In proximal gradient method, we use below instead:\n",
    "\\begin{align}\n",
    "x^{(k+1)} \n",
    "&= \\text{argmin}_x\\{ \\hat{f}(x,x^{(k)}) +\\lambda \\cdot g(x) \\} \\\\\n",
    "&= \\text{argmin}_x\\{ \\frac{L}{2}[x - (x^{(k)} - \\frac{1}{L} \\nabla f(x^{(k)}))]^2 + \\text{CONST} +\\lambda \\cdot g(x) \\}.\n",
    "\\end{align}\n",
    "\n",
    "\n",
    "Given $g(x) = \\left\\lVert x \\right\\rVert_1$, and let $z = x^{(k)} - \\frac{1}{L} \\nabla f(x_k)$, we have\n",
    "$$x^{(k+1)} = \\text{argmin}_x\\{ \\frac{L}{2} \\left\\lVert x - z \\right\\rVert^2 + \\lambda \\left\\lVert x \\right\\rVert_1 \\} \\label{opt_prox}.$$\n",
    "\n",
    "To solve Eq.(\\ref{opt_prox}), let $F(x) = \\frac{L}{2} \\sum_{j=1}^p(x_j - z_j)^2 + \\lambda\\sum_{j=1}^p|x_j|$. For $j$th element in $x$, it's easy to know that the optimal $x^*_j$ satisfies \n",
    "$$\\frac{\\partial F(x)}{\\partial x_j} = L(x_j - z_j) + \\lambda \\cdot \\text{sgn}(x_j)=0,$$\n",
    "and we can get\n",
    "$$z_j = x_j + \\frac{\\lambda}{L} \\text{sgn}(x_j)$$.\n",
    "\n",
    "The goal is to express $x^*_j$ as a function of $z_j$.This can be done by swapping the $x$-$z$ axes of the plot of $\\;\\;z_j = x_j + \\frac{\\lambda}{L} \\text{sgn}(x_j)$ :\n",
    "<div>\n",
    "<img src=\"./softthreshold.jpg\" width=\"80%\"/>\n",
    "</div>\n",
    "\n",
    "Then $x_j$ can be expressed as \n",
    "\\begin{align}\n",
    "x_j\n",
    "&= \\text{sgn}(z_j)(|z_j| - \\frac{\\lambda}{L})_+ \\\\\n",
    "&= \\text{sgn}(z_j) \\cdot \\text{max}\\{|z_j| - \\frac{\\lambda}{L},\\; 0\\} \n",
    "\\end{align}"
   ]
  },
  {
   "cell_type": "markdown",
   "metadata": {},
   "source": [
    "## Simplified Code\n",
    "\n",
    "The code is Python version of proximal gradient descent from [Stanford MATLAB LASSO demo](https://web.stanford.edu/~boyd/papers/prox_algs/lasso.html).\n",
    "\n",
    "In the original code, to make sure the differentiable part of objective function $f(\\beta) = \\frac{1}{2N} \\left\\lVert Y - X\\beta \\right\\rVert^2$ will decrease after each time weight update, there is a check to see whether the first-order approximation of $f(\\beta)$ is smaller than the value from previous $\\beta$:\n",
    "$$\\text{Check whether } \\frac{1}{2N} \\left\\lVert Y - X\\beta^{(k)} \\right\\rVert^2 \\le \\frac{1}{2N} \\left\\lVert Y - X\\beta^{(k-1)} \\right\\rVert^2 + \\nabla f^T(\\beta^{(k-1)}) (\\beta^{(k)} - \\beta^{(k-1)}) + \\frac{L}{2} \\left\\lVert \\beta^{(k)} - \\beta^{(k-1)} \\right\\rVert^2$$"
   ]
  },
  {
   "cell_type": "code",
   "execution_count": 21,
   "metadata": {},
   "outputs": [],
   "source": [
    "def f(X, y, w):\n",
    "    n_samples, _ = X.shape\n",
    "    tmp = y - np.dot(X,w)\n",
    "    return 2*np.dot(tmp, tmp) / n_samples\n",
    "\n",
    "def objective(X,y,w,lmbd):\n",
    "    n_samples, _ = X.shape\n",
    "    tmp = y - np.dot(X,w)\n",
    "    obj_v = 2 * np.dot(tmp,tmp) / n_samples + lmbd * np.sum(np.abs(w))\n",
    "    return obj_v\n",
    "    \n",
    "\n",
    "def LASSO_proximal_gradient(X, y, lmbd, L=1, max_iter=1000, tol=1e-4):\n",
    "    beta = 0.5 # used to update L for finding proper step size\n",
    "    n_samples, n_features = X.shape\n",
    "    w = np.empty(n_features, dtype=float)\n",
    "    w_prev = np.empty(n_features, dtype=float) # store the old weights\n",
    "    xty_N = np.dot(X.T, y) / n_samples\n",
    "    xtx_N = np.dot(X.T, X) / n_samples\n",
    "    prox_thres = lmbd / L\n",
    "    h_prox_optval = np.empty(max_iter, dtype=float)\n",
    "    for k in range(max_iter):\n",
    "        while True:\n",
    "            grad_w = np.dot(xtx_N, w)- xty_N\n",
    "            z = w - grad_w/L\n",
    "            w_tmp = np.sign(z) * np.maximum(np.abs(z)-prox_thres, 0)\n",
    "            w_diff = w_tmp - w\n",
    "            if f(X, y, w_tmp) <= f(X, y, w) + np.dot(grad_w, w_diff) + L/2 * np.sum(w_diff**2):\n",
    "                break\n",
    "            L = L / beta\n",
    "        w_prev = copy(w)\n",
    "        w = copy(w_tmp)\n",
    "        \n",
    "        h_prox_optval[k] = objective(X,y,w,lmbd)\n",
    "        if k > 0 and abs(h_prox_optval[k] - h_prox_optval[k-1]) < tol:\n",
    "            break\n",
    "    return w, h_prox_optval[:k]\n",
    "\n",
    "def pgd_lasso_path(X, y, lmbds):\n",
    "    n_samples, n_features = X.shape\n",
    "    pgd_coefs = np.empty((n_features, len(lmbds)), dtype=float)\n",
    "    for i, lmbd in enumerate(lmbds):\n",
    "        w, _ = LASSO_proximal_gradient(X, y, lmbd)\n",
    "        pgd_coefs[:,i] = w\n",
    "    return lmbds, pgd_coefs"
   ]
  },
  {
   "cell_type": "code",
   "execution_count": 29,
   "metadata": {},
   "outputs": [
    {
     "data": {
      "text/plain": [
       "(-1.184363644720181,\n",
       " 3.4596699798578108,\n",
       " -0.4999721963967405,\n",
       " 10.49941612433155)"
      ]
     },
     "execution_count": 29,
     "metadata": {},
     "output_type": "execute_result"
    },
    {
     "data": {
      "image/png": "[encoded data removed]",
      "text/plain": [
       "<Figure size 432x288 with 1 Axes>"
      ]
     },
     "metadata": {
      "needs_background": "light"
     },
     "output_type": "display_data"
    }
   ],
   "source": [
    "lmbds, pgd_coefs = pgd_lasso_path(X, y, my_lambdas)\n",
    "# Display results\n",
    "plt.figure(1)\n",
    "colors = cycle(['b', 'r', 'g', 'c', 'k', 'y','m'])\n",
    "neg_log_lambdas_lasso = -np.log10(my_lambdas)\n",
    "for coef_l, c in zip(coefs_lasso, colors):\n",
    "    l1 = plt.plot(neg_log_lambdas_lasso, coef_l, c=c)\n",
    "\n",
    "plt.xlabel('-Log($\\lambda$)')\n",
    "plt.ylabel('coefficients')\n",
    "plt.title('PGD Lasso Paths')\n",
    "plt.axis('tight')"
   ]
  },
  {
   "cell_type": "markdown",
   "metadata": {},
   "source": [
    "# LASSO by Accelerated Gradient Descent"
   ]
  },
  {
   "cell_type": "code",
   "execution_count": null,
   "metadata": {},
   "outputs": [],
   "source": []
  },
  {
   "cell_type": "code",
   "execution_count": null,
   "metadata": {},
   "outputs": [],
   "source": []
  },
  {
   "cell_type": "code",
   "execution_count": null,
   "metadata": {},
   "outputs": [],
   "source": []
  },
  {
   "cell_type": "code",
   "execution_count": null,
   "metadata": {},
   "outputs": [],
   "source": []
  },
  {
   "cell_type": "markdown",
   "metadata": {},
   "source": [
    "# LASSO by ADMM"
   ]
  },
  {
   "cell_type": "code",
   "execution_count": null,
   "metadata": {},
   "outputs": [],
   "source": []
  },
  {
   "cell_type": "code",
   "execution_count": null,
   "metadata": {},
   "outputs": [],
   "source": []
  },
  {
   "cell_type": "code",
   "execution_count": null,
   "metadata": {},
   "outputs": [],
   "source": []
  },
  {
   "cell_type": "code",
   "execution_count": null,
   "metadata": {},
   "outputs": [],
   "source": []
  },
  {
   "cell_type": "code",
   "execution_count": null,
   "metadata": {},
   "outputs": [],
   "source": []
  },
  {
   "cell_type": "markdown",
   "metadata": {},
   "source": [
    "# Speed Comparison"
   ]
  },
  {
   "cell_type": "code",
   "execution_count": 33,
   "metadata": {},
   "outputs": [
    {
     "name": "stdout",
     "output_type": "stream",
     "text": [
      "Coordinate descent method from scikit-learn:\n",
      "4.88 ms ± 97 µs per loop (mean ± std. dev. of 7 runs, 100 loops each)\n"
     ]
    }
   ],
   "source": [
    "print(\"Coordinate descent method from scikit-learn:\")\n",
    "%timeit lambdas_lasso, coefs_lasso, _ = lasso_path(X, y, eps, fit_intercept=False)"
   ]
  },
  {
   "cell_type": "code",
   "execution_count": 32,
   "metadata": {},
   "outputs": [
    {
     "name": "stdout",
     "output_type": "stream",
     "text": [
      "Coordinate descent method:\n",
      "6.57 s ± 208 ms per loop (mean ± std. dev. of 7 runs, 1 loop each)\n"
     ]
    }
   ],
   "source": [
    "print(\"Coordinate descent method:\")\n",
    "%timeit my_lambdas_lasso, coefs_lasso = my_lasso_path(X, y, eps, my_lambdas) # much slower than scikit-learn Cython version"
   ]
  },
  {
   "cell_type": "code",
   "execution_count": 31,
   "metadata": {},
   "outputs": [
    {
     "name": "stdout",
     "output_type": "stream",
     "text": [
      "PGD method:\n",
      "778 ms ± 21.3 ms per loop (mean ± std. dev. of 7 runs, 1 loop each)\n"
     ]
    }
   ],
   "source": [
    "print(\"PGD method:\")\n",
    "%timeit lmbds, pgd_coefs = pgd_lasso_path(X, y, my_lambdas)"
   ]
  }
 ],
 "metadata": {
  "kernelspec": {
   "display_name": "Python 3",
   "language": "python",
   "name": "python3"
  },
  "language_info": {
   "codemirror_mode": {
    "name": "ipython",
    "version": 3
   },
   "file_extension": ".py",
   "mimetype": "text/x-python",
   "name": "python",
   "nbconvert_exporter": "python",
   "pygments_lexer": "ipython3",
   "version": "3.7.3"
  },
  "latex_envs": {
   "LaTeX_envs_menu_present": true,
   "autoclose": false,
   "autocomplete": true,
   "bibliofile": "biblio.bib",
   "cite_by": "apalike",
   "current_citInitial": 1,
   "eqLabelWithNumbers": true,
   "eqNumInitial": 1,
   "hotkeys": {
    "equation": "Ctrl-E",
    "itemize": "Ctrl-I"
   },
   "labels_anchors": false,
   "latex_user_defs": false,
   "report_style_numbering": false,
   "user_envs_cfg": false
  },
  "toc": {
   "base_numbering": 1,
   "nav_menu": {},
   "number_sections": true,
   "sideBar": true,
   "skip_h1_title": false,
   "title_cell": "Table of Contents",
   "title_sidebar": "Contents",
   "toc_cell": false,
   "toc_position": {
    "height": "calc(100% - 180px)",
    "left": "10px",
    "top": "150px",
    "width": "339px"
   },
   "toc_section_display": true,
   "toc_window_display": true
  }
 },
 "nbformat": 4,
 "nbformat_minor": 2
}
